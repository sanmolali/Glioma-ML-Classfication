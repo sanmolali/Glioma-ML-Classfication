{
 "cells": [
  {
   "cell_type": "markdown",
   "metadata": {
    "_cell_guid": "b1076dfc-b9ad-4769-8c92-a6c4dae69d19",
    "_uuid": "8f2839f25d086af736a60e9eeb907d3b93b6e0e5",
    "execution": {
     "iopub.execute_input": "2021-07-18T04:22:55.956524Z",
     "iopub.status.busy": "2021-07-18T04:22:55.955919Z",
     "iopub.status.idle": "2021-07-18T04:22:56.527271Z",
     "shell.execute_reply": "2021-07-18T04:22:56.526277Z",
     "shell.execute_reply.started": "2021-07-18T04:22:55.956406Z"
    }
   },
   "source": [
    "# Import things"
   ]
  },
  {
   "cell_type": "code",
   "execution_count": 1,
   "metadata": {
    "execution": {
     "iopub.execute_input": "2025-02-21T02:55:25.466478Z",
     "iopub.status.busy": "2025-02-21T02:55:25.466217Z",
     "iopub.status.idle": "2025-02-21T02:55:28.339412Z",
     "shell.execute_reply": "2025-02-21T02:55:28.338735Z",
     "shell.execute_reply.started": "2025-02-21T02:55:25.466418Z"
    },
    "trusted": true
   },
   "outputs": [],
   "source": [
    "package_path = \"../input/efficientnet-pytorch/EfficientNet-PyTorch/EfficientNet-PyTorch-master/\"\n",
    "import sys \n",
    "sys.path.append(package_path)\n",
    "\n",
    "import os\n",
    "import glob\n",
    "import time\n",
    "import random\n",
    "import numpy as np\n",
    "import pandas as pd\n",
    "\n",
    "import pydicom\n",
    "from pydicom.pixel_data_handlers.util import apply_voi_lut\n",
    "import cv2\n",
    "import matplotlib.pyplot as plt\n",
    "\n",
    "import torch\n",
    "from torch import nn\n",
    "from torch.utils import data as torch_data\n",
    "from torch.nn import functional as F\n",
    "from torch.utils.data import Dataset, DataLoader\n",
    "from tqdm import tqdm\n",
    "\n",
    "import efficientnet_pytorch\n",
    "\n",
    "from sklearn.model_selection import StratifiedKFold"
   ]
  },
  {
   "cell_type": "code",
   "execution_count": 2,
   "metadata": {
    "execution": {
     "iopub.execute_input": "2025-02-21T02:56:19.768226Z",
     "iopub.status.busy": "2025-02-21T02:56:19.767913Z",
     "iopub.status.idle": "2025-02-21T02:56:33.762328Z",
     "shell.execute_reply": "2025-02-21T02:56:33.761550Z",
     "shell.execute_reply.started": "2025-02-21T02:56:19.768200Z"
    },
    "trusted": true
   },
   "outputs": [
    {
     "name": "stderr",
     "output_type": "stream",
     "text": [
      "100%|██████████| 582/582 [00:13<00:00, 41.66it/s]"
     ]
    },
    {
     "name": "stdout",
     "output_type": "stream",
     "text": [
      "(582, 5)\n"
     ]
    },
    {
     "name": "stderr",
     "output_type": "stream",
     "text": [
      "\n"
     ]
    }
   ],
   "source": [
    "patient_ids = sorted(os.listdir(\"/kaggle/input/rsna-miccai-png/train/\"))\n",
    "bad_ids = ['00109', '00123', '00709']\n",
    "patient_ids = [i for i in patient_ids if i not in bad_ids]\n",
    "\n",
    "\n",
    "Flair_files = []\n",
    "T1w_files = []\n",
    "T1wCE_files = []\n",
    "T2w_files = []\n",
    "\n",
    "for i in tqdm(range(len(patient_ids))):\n",
    "      patient_path = os.path.join(\"/kaggle/input/rsna-miccai-png/train/\", patient_ids[i])\n",
    "      Flair_files.append(len(os.listdir(os.path.join(patient_path, \"FLAIR\"))))\n",
    "      T1w_files.append(len(os.listdir(os.path.join(patient_path, \"T1w\"))))\n",
    "      T1wCE_files.append(len(os.listdir(os.path.join(patient_path, \"T1wCE\"))))\n",
    "      T2w_files.append(len(os.listdir(os.path.join(patient_path, \"T2w\"))))\n",
    "\n",
    "data_prop = {\n",
    "    \"Patient ID\": patient_ids,\n",
    "    \"Flair\": Flair_files,\n",
    "    \"T1w\": T1w_files,\n",
    "    \"T1wCE\": T1wCE_files,\n",
    "    \"T2w\": T2w_files\n",
    "    # \"labels\": y\n",
    "}\n",
    "\n",
    "no_frame_df = pd.DataFrame(data_prop)\n",
    "print(no_frame_df.shape)"
   ]
  },
  {
   "cell_type": "code",
   "execution_count": null,
   "metadata": {
    "execution": {
     "iopub.execute_input": "2025-01-18T03:03:14.372408Z",
     "iopub.status.busy": "2025-01-18T03:03:14.372122Z",
     "iopub.status.idle": "2025-01-18T03:03:14.385049Z",
     "shell.execute_reply": "2025-01-18T03:03:14.384299Z",
     "shell.execute_reply.started": "2025-01-18T03:03:14.372384Z"
    },
    "trusted": true
   },
   "outputs": [],
   "source": [
    "no_frame_df['Flair'].values.min()"
   ]
  },
  {
   "cell_type": "code",
   "execution_count": 3,
   "metadata": {
    "execution": {
     "iopub.execute_input": "2025-02-21T02:56:36.796790Z",
     "iopub.status.busy": "2025-02-21T02:56:36.796447Z",
     "iopub.status.idle": "2025-02-21T02:56:36.874606Z",
     "shell.execute_reply": "2025-02-21T02:56:36.873962Z",
     "shell.execute_reply.started": "2025-02-21T02:56:36.796758Z"
    },
    "trusted": true
   },
   "outputs": [],
   "source": [
    "device = torch.device(\"cuda\" if torch.cuda.is_available() else \"cpu\")\n",
    "seed = 123\n",
    "\n",
    "def seed_everything(seed):\n",
    "    random.seed(seed)\n",
    "    os.environ['PYTHONHASHSEED'] = str(seed)\n",
    "    np.random.seed(seed)\n",
    "    torch.manual_seed(seed)\n",
    "    torch.cuda.manual_seed(seed)\n",
    "    torch.backends.cudnn.deterministic = True\n",
    "    torch.backends.cudnn.benchmark = True\n",
    "\n",
    "seed_everything(seed)\n",
    "\n",
    "class CFG:\n",
    "    img_size = 256\n",
    "    n_frames = 14\n",
    "    \n",
    "    cnn_features = 256\n",
    "    lstm_hidden = 32\n",
    "    \n",
    "    n_fold = 5\n",
    "    n_epochs = 20"
   ]
  },
  {
   "cell_type": "markdown",
   "metadata": {},
   "source": [
    "# Model"
   ]
  },
  {
   "cell_type": "code",
   "execution_count": 4,
   "metadata": {
    "execution": {
     "iopub.execute_input": "2025-02-21T02:56:39.861953Z",
     "iopub.status.busy": "2025-02-21T02:56:39.861657Z",
     "iopub.status.idle": "2025-02-21T02:56:39.870087Z",
     "shell.execute_reply": "2025-02-21T02:56:39.869244Z",
     "shell.execute_reply.started": "2025-02-21T02:56:39.861927Z"
    },
    "trusted": true
   },
   "outputs": [],
   "source": [
    "class CNN(nn.Module):\n",
    "    def __init__(self):\n",
    "        super().__init__()\n",
    "        self.map = nn.Conv2d(in_channels=4, out_channels=3, kernel_size=1)\n",
    "        self.net = efficientnet_pytorch.EfficientNet.from_name(\"efficientnet-b0\")\n",
    "        checkpoint = torch.load(\"../input/efficientnet-pytorch/efficientnet-b0-08094119.pth\")\n",
    "        self.net.load_state_dict(checkpoint)\n",
    "        \n",
    "        n_features = self.net._fc.in_features\n",
    "        self.net._fc = nn.Linear(in_features=n_features, out_features=CFG.cnn_features, bias=True)\n",
    "    \n",
    "    def forward(self, x):\n",
    "        x = F.relu(self.map(x))\n",
    "        out = self.net(x)\n",
    "        return out\n",
    "\n",
    "class Model(nn.Module):\n",
    "    def __init__(self):\n",
    "        super(Model, self).__init__()\n",
    "        self.cnn = CNN()\n",
    "        self.rnn = nn.LSTM(CFG.cnn_features, CFG.lstm_hidden, 2, batch_first=True)\n",
    "        self.fc = nn.Linear(CFG.lstm_hidden, 1, bias=True)\n",
    "\n",
    "    def forward(self, x):\n",
    "        # x shape: BxTxCxHxW\n",
    "        batch_size, timesteps, C, H, W = x.size()\n",
    "        c_in = x.view(batch_size * timesteps, C, H, W)\n",
    "        c_out = self.cnn(c_in)\n",
    "        r_in = c_out.view(batch_size, timesteps, -1)\n",
    "        output, (hn, cn) = self.rnn(r_in)\n",
    "        \n",
    "        out = self.fc(hn[-1])\n",
    "        return out"
   ]
  },
  {
   "cell_type": "code",
   "execution_count": 5,
   "metadata": {
    "execution": {
     "iopub.execute_input": "2025-02-21T02:56:40.229339Z",
     "iopub.status.busy": "2025-02-21T02:56:40.228983Z",
     "iopub.status.idle": "2025-02-21T02:56:51.462417Z",
     "shell.execute_reply": "2025-02-21T02:56:51.461528Z",
     "shell.execute_reply.started": "2025-02-21T02:56:40.229309Z"
    },
    "trusted": true
   },
   "outputs": [
    {
     "name": "stdout",
     "output_type": "stream",
     "text": [
      "tensor([[0.1446],\n",
      "        [0.1531],\n",
      "        [0.1506],\n",
      "        [0.1523],\n",
      "        [0.1531]], grad_fn=<AddmmBackward>)\n"
     ]
    }
   ],
   "source": [
    "model = Model()\n",
    "x = torch.zeros((5, 14, 4, 256, 256))\n",
    "out = model(x)\n",
    "print(out)"
   ]
  },
  {
   "cell_type": "markdown",
   "metadata": {},
   "source": [
    "# Data Processing"
   ]
  },
  {
   "cell_type": "code",
   "execution_count": 6,
   "metadata": {
    "execution": {
     "iopub.execute_input": "2025-02-21T02:56:51.463995Z",
     "iopub.status.busy": "2025-02-21T02:56:51.463744Z",
     "iopub.status.idle": "2025-02-21T02:56:51.472430Z",
     "shell.execute_reply": "2025-02-21T02:56:51.471603Z",
     "shell.execute_reply.started": "2025-02-21T02:56:51.463969Z"
    },
    "trusted": true
   },
   "outputs": [
    {
     "name": "stdout",
     "output_type": "stream",
     "text": [
      "[0, 1, 2, 3, 4, 5, 6, 7, 8, 9, 10, 11, 12, 13]\n"
     ]
    }
   ],
   "source": [
    "def load_image(path):\n",
    "    image = cv2.imread(path, 0)\n",
    "    if image is None:\n",
    "        return np.zeros((CFG.img_size, CFG.img_size))\n",
    "    \n",
    "    image = cv2.resize(image, (CFG.img_size, CFG.img_size)) / 255\n",
    "    return image.astype('f')\n",
    "\n",
    "def uniform_temporal_subsample(x, num_samples):\n",
    "    '''\n",
    "        Moddified from https://github.com/facebookresearch/pytorchvideo/blob/d7874f788bc00a7badfb4310a912f6e531ffd6d3/pytorchvideo/transforms/functional.py#L19\n",
    "        Args:\n",
    "            x: input list\n",
    "            num_samples: The number of equispaced samples to be selected\n",
    "        Returns:\n",
    "            Output list     \n",
    "    '''\n",
    "    t = len(x)\n",
    "    indices = torch.linspace(0, t - 1, num_samples)\n",
    "    indices = torch.clamp(indices, 0, t - 1).long()\n",
    "    return [i.item() for i in indices]\n",
    "\n",
    "x = torch.zeros((14, 32))\n",
    "print(uniform_temporal_subsample(x, 14))"
   ]
  },
  {
   "cell_type": "code",
   "execution_count": 8,
   "metadata": {
    "execution": {
     "iopub.execute_input": "2025-02-21T02:56:56.401464Z",
     "iopub.status.busy": "2025-02-21T02:56:56.401181Z",
     "iopub.status.idle": "2025-02-21T02:56:56.411011Z",
     "shell.execute_reply": "2025-02-21T02:56:56.410145Z",
     "shell.execute_reply.started": "2025-02-21T02:56:56.401441Z"
    },
    "trusted": true
   },
   "outputs": [],
   "source": [
    "class DataRetriever(Dataset):\n",
    "    def __init__(self, paths, targets, transform=None):\n",
    "        self.paths = paths\n",
    "        self.targets = targets\n",
    "        self.transform = transform\n",
    "          \n",
    "    def __len__(self):\n",
    "        return len(self.paths)\n",
    "    \n",
    "    def read_video(self, vid_paths):\n",
    "        video = [load_image(path) for path in vid_paths]\n",
    "        if self.transform:\n",
    "            seed = random.randint(0,99999)\n",
    "            for i in range(len(video)):\n",
    "                random.seed(seed)\n",
    "                video[i] = self.transform(image=video[i])[\"image\"]\n",
    "        \n",
    "        video = [torch.tensor(frame, dtype=torch.float32) for frame in video]\n",
    "        if len(video)==0:\n",
    "            video = torch.zeros(CFG.n_frames, CFG.img_size, CFG.img_size)\n",
    "        else:\n",
    "            video = torch.stack(video) # T * H * W\n",
    "#         video = torch.transpose(video, 0, 1) # C * T * H * W\n",
    "        return video\n",
    "    \n",
    "    def __getitem__(self, index):\n",
    "        _id = self.paths[index]\n",
    "        patient_path = f\"../input/rsna-miccai-png/train/{str(_id.item()).zfill(5)}/\"\n",
    "        channels = []\n",
    "        for t in [\"FLAIR\", \"T1w\", \"T1wCE\", \"T2w\"]:\n",
    "            t_paths = sorted(\n",
    "                glob.glob(os.path.join(patient_path, t, \"*\")), \n",
    "                key=lambda x: int(x[:-4].split(\"-\")[-1]),\n",
    "            )\n",
    "            num_samples = CFG.n_frames\n",
    "            if len(t_paths) < num_samples:\n",
    "                in_frames_path = t_paths\n",
    "            else:\n",
    "                sampled_ids = uniform_temporal_subsample(t_paths, num_samples)\n",
    "                in_frames_path = [t_paths[i] for i in sampled_ids]\n",
    "\n",
    "            channel = self.read_video(in_frames_path)\n",
    "            if channel.shape[0] == 0:\n",
    "                print(\"1 channel empty\")\n",
    "                channel = torch.zeros(num_samples, CFG.img_size, CFG.img_size)\n",
    "            channels.append(channel)\n",
    "            \n",
    "        channels = torch.stack(channels).transpose(0,1)\n",
    "        \n",
    "        y = torch.tensor(self.targets[index], dtype=torch.float)\n",
    "        return {\"X\": channels.float(), \"y\": y}"
   ]
  },
  {
   "cell_type": "code",
   "execution_count": 9,
   "metadata": {
    "execution": {
     "iopub.execute_input": "2025-02-21T02:56:56.877840Z",
     "iopub.status.busy": "2025-02-21T02:56:56.877537Z",
     "iopub.status.idle": "2025-02-21T02:56:58.017174Z",
     "shell.execute_reply": "2025-02-21T02:56:58.016520Z",
     "shell.execute_reply.started": "2025-02-21T02:56:56.877812Z"
    },
    "trusted": true
   },
   "outputs": [],
   "source": [
    "import albumentations as A\n",
    "from albumentations.pytorch import ToTensorV2\n",
    "\n",
    "train_transform = A.Compose([\n",
    "                                A.HorizontalFlip(p=0.5),\n",
    "                                A.ShiftScaleRotate(\n",
    "                                    shift_limit=0.0625, \n",
    "                                    scale_limit=0.1, \n",
    "                                    rotate_limit=10, \n",
    "                                    p=0.5\n",
    "                                ),\n",
    "                                A.RandomBrightnessContrast(p=0.5),\n",
    "                            ])\n",
    "valid_transform = A.Compose([\n",
    "                            ])"
   ]
  },
  {
   "cell_type": "code",
   "execution_count": null,
   "metadata": {
    "execution": {
     "iopub.execute_input": "2025-01-18T03:03:48.046952Z",
     "iopub.status.busy": "2025-01-18T03:03:48.046654Z",
     "iopub.status.idle": "2025-01-18T03:03:48.050979Z",
     "shell.execute_reply": "2025-01-18T03:03:48.050181Z",
     "shell.execute_reply.started": "2025-01-18T03:03:48.046927Z"
    },
    "trusted": true
   },
   "outputs": [],
   "source": [
    "# data = DataRetriever(\n",
    "#         df[\"BraTS21ID\"].values, \n",
    "#         df[\"MGMT_value\"].values\n",
    "#     )\n",
    "# data[584]['y']"
   ]
  },
  {
   "cell_type": "code",
   "execution_count": 10,
   "metadata": {
    "execution": {
     "iopub.execute_input": "2025-02-21T02:57:01.430152Z",
     "iopub.status.busy": "2025-02-21T02:57:01.429840Z",
     "iopub.status.idle": "2025-02-21T02:57:01.455556Z",
     "shell.execute_reply": "2025-02-21T02:57:01.454663Z",
     "shell.execute_reply.started": "2025-02-21T02:57:01.430126Z"
    },
    "trusted": true
   },
   "outputs": [
    {
     "name": "stdout",
     "output_type": "stream",
     "text": [
      "     BraTS21ID  MGMT_value\n",
      "0            0           1\n",
      "1            2           1\n",
      "2            3           0\n",
      "3            5           1\n",
      "4            6           1\n",
      "..         ...         ...\n",
      "577       1005           1\n",
      "578       1007           1\n",
      "579       1008           1\n",
      "580       1009           0\n",
      "581       1010           0\n",
      "\n",
      "[582 rows x 2 columns]\n"
     ]
    }
   ],
   "source": [
    "df = pd.read_csv(\"../input/rsna-miccai-brain-tumor-radiogenomic-classification/train_labels.csv\")\n",
    "str(int(df[\"BraTS21ID\"].values[100])).zfill(5)\n",
    "excluded_images = [109, 123, 709]\n",
    "df = df[~df.BraTS21ID.isin(excluded_images)]\n",
    "df.reset_index(drop=True, inplace=True)\n",
    "print(df)"
   ]
  },
  {
   "cell_type": "code",
   "execution_count": null,
   "metadata": {
    "execution": {
     "iopub.execute_input": "2025-01-18T03:03:50.255098Z",
     "iopub.status.busy": "2025-01-18T03:03:50.254785Z",
     "iopub.status.idle": "2025-01-18T03:03:50.258348Z",
     "shell.execute_reply": "2025-01-18T03:03:50.257516Z",
     "shell.execute_reply.started": "2025-01-18T03:03:50.255072Z"
    },
    "trusted": true
   },
   "outputs": [],
   "source": [
    "# train_data = TrainDataRetriever(\n",
    "#     train_df[\"BraTS21ID\"].values, \n",
    "#     train_df[\"MGMT_value\"].values)\n",
    "# for idx, dat in enumerate(train_data):\n",
    "#     print('{} {} {}'.format(idx, dat['video'].shape, dat['label']))"
   ]
  },
  {
   "cell_type": "markdown",
   "metadata": {},
   "source": [
    "# Training"
   ]
  },
  {
   "cell_type": "code",
   "execution_count": 11,
   "metadata": {
    "execution": {
     "iopub.execute_input": "2025-02-21T02:57:04.289430Z",
     "iopub.status.busy": "2025-02-21T02:57:04.289143Z",
     "iopub.status.idle": "2025-02-21T02:57:04.295487Z",
     "shell.execute_reply": "2025-02-21T02:57:04.294648Z",
     "shell.execute_reply.started": "2025-02-21T02:57:04.289405Z"
    },
    "trusted": true
   },
   "outputs": [],
   "source": [
    "class LossMeter:\n",
    "    def __init__(self):\n",
    "        self.avg = 0\n",
    "        self.n = 0\n",
    "\n",
    "    def update(self, val):\n",
    "        self.n += 1\n",
    "        # incremental update\n",
    "        self.avg = val / self.n + (self.n - 1) / self.n * self.avg\n",
    "\n",
    "        \n",
    "class AccMeter:\n",
    "    def __init__(self):\n",
    "        self.avg = 0\n",
    "        self.n = 0\n",
    "        \n",
    "    def update(self, y_true, y_pred):\n",
    "        y_true = y_true.cpu().numpy().astype(int)\n",
    "        y_pred = y_pred.cpu().numpy() >= 0\n",
    "        last_n = self.n\n",
    "        self.n += len(y_true)\n",
    "        true_count = np.sum(y_true == y_pred)\n",
    "        # incremental update\n",
    "        self.avg = true_count / self.n + last_n / self.n * self.avg"
   ]
  },
  {
   "cell_type": "code",
   "execution_count": 12,
   "metadata": {
    "execution": {
     "iopub.execute_input": "2025-02-21T02:57:06.708896Z",
     "iopub.status.busy": "2025-02-21T02:57:06.708521Z",
     "iopub.status.idle": "2025-02-21T02:57:06.727949Z",
     "shell.execute_reply": "2025-02-21T02:57:06.727114Z",
     "shell.execute_reply.started": "2025-02-21T02:57:06.708845Z"
    },
    "trusted": true
   },
   "outputs": [],
   "source": [
    "class Trainer:\n",
    "    def __init__(\n",
    "        self, \n",
    "        model, \n",
    "        device, \n",
    "        optimizer, \n",
    "        criterion, \n",
    "        loss_meter, \n",
    "        score_meter\n",
    "    ):\n",
    "        self.model = model\n",
    "        self.device = device\n",
    "        self.optimizer = optimizer\n",
    "        self.criterion = criterion\n",
    "        self.loss_meter = loss_meter\n",
    "        self.score_meter = score_meter\n",
    "        self.hist = {'val_loss':[],\n",
    "                     'val_score':[],\n",
    "                     'train_loss':[],\n",
    "                     'train_score':[]\n",
    "                    }\n",
    "        \n",
    "        self.best_valid_score = -np.inf\n",
    "        self.best_valid_loss = np.inf\n",
    "        self.n_patience = 0\n",
    "        \n",
    "        self.messages = {\n",
    "            \"epoch\": \"[Epoch {}: {}] loss: {:.5f}, score: {:.5f}, time: {} s\",\n",
    "            \"checkpoint\": \"The score improved from {:.5f} to {:.5f}. Save model to '{}'\",\n",
    "            \"patience\": \"\\nValid score didn't improve last {} epochs.\"\n",
    "        }\n",
    "    \n",
    "    def fit(self, epochs, train_loader, valid_loader, save_path, patience):        \n",
    "        for n_epoch in range(1, epochs + 1):\n",
    "            self.info_message(\"EPOCH: {}\", n_epoch)\n",
    "            \n",
    "            train_loss, train_score, train_time = self.train_epoch(train_loader)\n",
    "            valid_loss, valid_score, valid_time = self.valid_epoch(valid_loader)\n",
    "            self.hist['val_loss'].append(valid_loss)\n",
    "            self.hist['train_loss'].append(train_loss)\n",
    "            self.hist['val_score'].append(valid_score)\n",
    "            self.hist['train_score'].append(train_score)\n",
    "            \n",
    "            self.info_message(\n",
    "                self.messages[\"epoch\"], \"Train\", n_epoch, train_loss, train_score, train_time\n",
    "            )\n",
    "            \n",
    "            self.info_message(\n",
    "                self.messages[\"epoch\"], \"Valid\", n_epoch, valid_loss, valid_score, valid_time\n",
    "            )\n",
    "\n",
    "            if self.best_valid_score < valid_score:\n",
    "                self.info_message(\n",
    "                    self.messages[\"checkpoint\"], self.best_valid_score, valid_score, save_path\n",
    "                )\n",
    "                self.best_valid_score = valid_score\n",
    "                self.best_valid_loss = valid_loss\n",
    "                self.save_model(n_epoch, save_path)\n",
    "                self.n_patience = 0\n",
    "            else:\n",
    "                self.n_patience += 1\n",
    "            \n",
    "            if self.n_patience >= patience:\n",
    "                self.info_message(self.messages[\"patience\"], patience)\n",
    "                break\n",
    "                \n",
    "        return self.best_valid_loss, self.best_valid_score\n",
    "            \n",
    "    def train_epoch(self, train_loader):\n",
    "        self.model.train()\n",
    "        t = time.time()\n",
    "        train_loss = self.loss_meter()\n",
    "        train_score = self.score_meter()\n",
    "        \n",
    "        for step, batch in enumerate(train_loader, 1):\n",
    "            X = batch[\"X\"].to(self.device)\n",
    "            targets = batch[\"y\"].to(self.device)\n",
    "            self.optimizer.zero_grad()\n",
    "            outputs = self.model(X).squeeze(1)\n",
    "            \n",
    "            loss = self.criterion(outputs, targets)\n",
    "            loss.backward()\n",
    "\n",
    "            train_loss.update(loss.detach().item())\n",
    "            train_score.update(targets, outputs.detach())\n",
    "\n",
    "            self.optimizer.step()\n",
    "            \n",
    "            _loss, _score = train_loss.avg, train_score.avg\n",
    "            message = 'Train Step {}/{}, train_loss: {:.5f}, train_score: {:.5f}'\n",
    "            self.info_message(message, step, len(train_loader), _loss, _score, end=\"\\r\")\n",
    "        \n",
    "        return train_loss.avg, train_score.avg, int(time.time() - t)\n",
    "    \n",
    "    def valid_epoch(self, valid_loader):\n",
    "        self.model.eval()\n",
    "        t = time.time()\n",
    "        valid_loss = self.loss_meter()\n",
    "        valid_score = self.score_meter()\n",
    "\n",
    "        for step, batch in enumerate(valid_loader, 1):\n",
    "            with torch.no_grad():\n",
    "                X = batch[\"X\"].to(self.device)\n",
    "                targets = batch[\"y\"].to(self.device)\n",
    "\n",
    "                outputs = self.model(X).squeeze(1)\n",
    "                loss = self.criterion(outputs, targets)\n",
    "\n",
    "                valid_loss.update(loss.detach().item())\n",
    "                valid_score.update(targets, outputs)\n",
    "                \n",
    "            _loss, _score = valid_loss.avg, valid_score.avg\n",
    "            message = 'Valid Step {}/{}, valid_loss: {:.5f}, valid_score: {:.5f}'\n",
    "            self.info_message(message, step, len(valid_loader), _loss, _score, end=\"\\r\")\n",
    "        \n",
    "        return valid_loss.avg, valid_score.avg, int(time.time() - t)\n",
    "    \n",
    "    def plot_loss(self):\n",
    "        plt.title(\"Loss\")\n",
    "        plt.xlabel(\"Training Epochs\")\n",
    "        plt.ylabel(\"Loss\")\n",
    "\n",
    "        plt.plot(self.hist['train_loss'], label=\"Train\")\n",
    "        plt.plot(self.hist['val_loss'], label=\"Validation\")\n",
    "        plt.legend()\n",
    "        plt.show()\n",
    "    \n",
    "    def plot_score(self):\n",
    "        plt.title(\"Score\")\n",
    "        plt.xlabel(\"Training Epochs\")\n",
    "        plt.ylabel(\"Acc\")\n",
    "\n",
    "        plt.plot(self.hist['train_score'], label=\"Train\")\n",
    "        plt.plot(self.hist['val_score'], label=\"Validation\")\n",
    "        plt.legend()\n",
    "        plt.show()\n",
    "    \n",
    "    def save_model(self, n_epoch, save_path):\n",
    "        torch.save(\n",
    "            {\n",
    "                \"model_state_dict\": self.model.state_dict(),\n",
    "                \"optimizer_state_dict\": self.optimizer.state_dict(),\n",
    "                \"best_valid_score\": self.best_valid_score,\n",
    "                \"n_epoch\": n_epoch,\n",
    "            },\n",
    "            save_path,\n",
    "        )\n",
    "    \n",
    "    @staticmethod\n",
    "    def info_message(message, *args, end=\"\\n\"):\n",
    "        print(message.format(*args), end=end)"
   ]
  },
  {
   "cell_type": "code",
   "execution_count": 14,
   "metadata": {
    "execution": {
     "iopub.execute_input": "2025-02-21T02:57:20.355071Z",
     "iopub.status.busy": "2025-02-21T02:57:20.354736Z",
     "iopub.status.idle": "2025-02-21T03:15:35.692585Z",
     "shell.execute_reply": "2025-02-21T03:15:35.691700Z",
     "shell.execute_reply.started": "2025-02-21T02:57:20.355025Z"
    },
    "trusted": true
   },
   "outputs": [
    {
     "name": "stdout",
     "output_type": "stream",
     "text": [
      "------------------------------\n",
      "Fold 5\n",
      "EPOCH: 1\n",
      "[Epoch Train: 1] loss: 0.69180, score: 0.52361, time: 51 s6\n",
      "[Epoch Valid: 1] loss: 0.69258, score: 0.52586, time: 11 s\n",
      "The score improved from -inf to 0.52586. Save model to 'best-model-5.pth'\n",
      "EPOCH: 2\n",
      "[Epoch Train: 2] loss: 0.69104, score: 0.52790, time: 46 s6\n",
      "[Epoch Valid: 2] loss: 0.68575, score: 0.52586, time: 7 s\n",
      "EPOCH: 3\n",
      "[Epoch Train: 3] loss: 0.68664, score: 0.56867, time: 46 s8\n",
      "[Epoch Valid: 3] loss: 0.67847, score: 0.53448, time: 7 s\n",
      "The score improved from 0.52586 to 0.53448. Save model to 'best-model-5.pth'\n",
      "EPOCH: 4\n",
      "[Epoch Train: 4] loss: 0.68088, score: 0.56223, time: 46 s7\n",
      "[Epoch Valid: 4] loss: 0.68107, score: 0.56897, time: 7 s\n",
      "The score improved from 0.53448 to 0.56897. Save model to 'best-model-5.pth'\n",
      "EPOCH: 5\n",
      "[Epoch Train: 5] loss: 0.67042, score: 0.59442, time: 46 s1\n",
      "[Epoch Valid: 5] loss: 0.66962, score: 0.58621, time: 7 s\n",
      "The score improved from 0.56897 to 0.58621. Save model to 'best-model-5.pth'\n",
      "EPOCH: 6\n",
      "[Epoch Train: 6] loss: 0.66418, score: 0.57725, time: 46 s6\n",
      "[Epoch Valid: 6] loss: 0.72114, score: 0.52586, time: 7 s\n",
      "EPOCH: 7\n",
      "[Epoch Train: 7] loss: 0.66641, score: 0.61373, time: 46 s5\n",
      "[Epoch Valid: 7] loss: 0.66827, score: 0.60345, time: 7 s\n",
      "The score improved from 0.58621 to 0.60345. Save model to 'best-model-5.pth'\n",
      "EPOCH: 8\n",
      "[Epoch Train: 8] loss: 0.65680, score: 0.62446, time: 46 s8\n",
      "[Epoch Valid: 8] loss: 0.69174, score: 0.53448, time: 7 s\n",
      "EPOCH: 9\n",
      "[Epoch Train: 9] loss: 0.64145, score: 0.64592, time: 46 s6\n",
      "[Epoch Valid: 9] loss: 0.69883, score: 0.52586, time: 7 s\n",
      "EPOCH: 10\n",
      "[Epoch Train: 10] loss: 0.63004, score: 0.67811, time: 46 s\n",
      "[Epoch Valid: 10] loss: 0.71423, score: 0.52586, time: 7 s\n",
      "EPOCH: 11\n",
      "[Epoch Train: 11] loss: 0.63754, score: 0.66309, time: 46 s\n",
      "[Epoch Valid: 11] loss: 0.69528, score: 0.56034, time: 7 s\n",
      "EPOCH: 12\n",
      "[Epoch Train: 12] loss: 0.61874, score: 0.68884, time: 46 s\n",
      "[Epoch Valid: 12] loss: 0.74256, score: 0.56897, time: 7 s\n",
      "EPOCH: 13\n",
      "[Epoch Train: 13] loss: 0.61236, score: 0.67382, time: 46 s\n",
      "[Epoch Valid: 13] loss: 0.71095, score: 0.56897, time: 7 s\n",
      "EPOCH: 14\n",
      "[Epoch Train: 14] loss: 0.59355, score: 0.71459, time: 46 s\n",
      "[Epoch Valid: 14] loss: 0.70516, score: 0.52586, time: 7 s\n",
      "EPOCH: 15\n",
      "[Epoch Train: 15] loss: 0.55540, score: 0.72961, time: 46 s\n",
      "[Epoch Valid: 15] loss: 0.76170, score: 0.51724, time: 7 s\n",
      "EPOCH: 16\n",
      "[Epoch Train: 16] loss: 0.57561, score: 0.69957, time: 46 s\n",
      "[Epoch Valid: 16] loss: 0.75044, score: 0.52586, time: 7 s\n",
      "EPOCH: 17\n",
      "[Epoch Train: 17] loss: 0.58190, score: 0.70601, time: 46 s\n",
      "[Epoch Valid: 17] loss: 0.70236, score: 0.56897, time: 7 s\n",
      "EPOCH: 18\n",
      "[Epoch Train: 18] loss: 0.54882, score: 0.74464, time: 46 s\n",
      "[Epoch Valid: 18] loss: 0.66804, score: 0.56897, time: 7 s\n",
      "EPOCH: 19\n",
      "[Epoch Train: 19] loss: 0.51775, score: 0.75322, time: 46 s\n",
      "[Epoch Valid: 19] loss: 0.84463, score: 0.55172, time: 7 s\n",
      "EPOCH: 20\n",
      "[Epoch Train: 20] loss: 0.51569, score: 0.76824, time: 46 s\n",
      "[Epoch Valid: 20] loss: 0.78952, score: 0.46552, time: 7 s\n"
     ]
    },
    {
     "data": {
      "image/png": "[encoded data removed]",
      "text/plain": [
       "<Figure size 432x288 with 1 Axes>"
      ]
     },
     "metadata": {
      "needs_background": "light"
     },
     "output_type": "display_data"
    },
    {
     "data": {
      "image/png": "[encoded data removed]",
      "text/plain": [
       "<Figure size 432x288 with 1 Axes>"
      ]
     },
     "metadata": {
      "needs_background": "light"
     },
     "output_type": "display_data"
    },
    {
     "name": "stdout",
     "output_type": "stream",
     "text": [
      "\n",
      "Training complete in 18m 15s\n",
      "Avg loss 0.6682710111141205\n",
      "Avg score 0.6034482758620692\n"
     ]
    }
   ],
   "source": [
    "skf = StratifiedKFold(n_splits=CFG.n_fold, shuffle=True)\n",
    "t = df['MGMT_value']\n",
    "\n",
    "start_time = time.time()\n",
    "\n",
    "losses = []\n",
    "scores = []\n",
    "test_dfs = []\n",
    "\n",
    "for fold, (train_index, val_index) in enumerate(skf.split(np.zeros(len(t)), t), 1):\n",
    "    if fold != 5: continue \n",
    "    print('-'*30)\n",
    "    print(f\"Fold {fold}\")\n",
    "    \n",
    "    train_df = df.loc[train_index]\n",
    "    val_df = df.loc[val_index]\n",
    "    test_dfs.append(val_df)\n",
    "\n",
    "    train_retriever = DataRetriever(\n",
    "        train_df[\"BraTS21ID\"].values, \n",
    "        train_df[\"MGMT_value\"].values,\n",
    "        train_transform\n",
    "    )\n",
    "    val_retriever = DataRetriever(\n",
    "        val_df[\"BraTS21ID\"].values, \n",
    "        val_df[\"MGMT_value\"].values\n",
    "    )\n",
    "    \n",
    "    train_loader = torch_data.DataLoader(\n",
    "        train_retriever,\n",
    "        batch_size=6,\n",
    "        shuffle=True,\n",
    "        num_workers=6,\n",
    "    )\n",
    "    valid_loader = torch_data.DataLoader(\n",
    "        val_retriever, \n",
    "        batch_size=6,\n",
    "        shuffle=False,\n",
    "        num_workers=6,\n",
    "    )\n",
    "    \n",
    "    model = Model()\n",
    "    model.to(device)\n",
    "    \n",
    "    optimizer = torch.optim.Adam(model.parameters(), lr=0.0001)\n",
    "    criterion = F.binary_cross_entropy_with_logits\n",
    "    \n",
    "    trainer = Trainer(\n",
    "        model, \n",
    "        device, \n",
    "        optimizer, \n",
    "        criterion, \n",
    "        LossMeter, \n",
    "        AccMeter\n",
    "    )\n",
    "    loss, score = trainer.fit(\n",
    "        CFG.n_epochs, \n",
    "        train_loader, \n",
    "        valid_loader, \n",
    "        f\"best-model-{fold}.pth\", \n",
    "        100,\n",
    "    )\n",
    "    losses.append(loss)\n",
    "    scores.append(score)\n",
    "    \n",
    "    trainer.plot_loss()\n",
    "    trainer.plot_score()\n",
    "    \n",
    "elapsed_time = time.time() - start_time\n",
    "print('\\nTraining complete in {:.0f}m {:.0f}s'.format(elapsed_time // 60, elapsed_time % 60))\n",
    "print('Avg loss {}'.format(np.mean(losses)))\n",
    "print('Avg score {}'.format(np.mean(scores)))"
   ]
  },
  {
   "cell_type": "code",
   "execution_count": 15,
   "metadata": {
    "execution": {
     "iopub.execute_input": "2025-02-21T03:16:10.937683Z",
     "iopub.status.busy": "2025-02-21T03:16:10.937366Z",
     "iopub.status.idle": "2025-02-21T03:16:10.951370Z",
     "shell.execute_reply": "2025-02-21T03:16:10.950564Z",
     "shell.execute_reply.started": "2025-02-21T03:16:10.937653Z"
    },
    "trusted": true
   },
   "outputs": [
    {
     "data": {
      "text/html": [
       "<div>\n",
       "<style scoped>\n",
       "    .dataframe tbody tr th:only-of-type {\n",
       "        vertical-align: middle;\n",
       "    }\n",
       "\n",
       "    .dataframe tbody tr th {\n",
       "        vertical-align: top;\n",
       "    }\n",
       "\n",
       "    .dataframe thead th {\n",
       "        text-align: right;\n",
       "    }\n",
       "</style>\n",
       "<table border=\"1\" class=\"dataframe\">\n",
       "  <thead>\n",
       "    <tr style=\"text-align: right;\">\n",
       "      <th></th>\n",
       "      <th>BraTS21ID</th>\n",
       "      <th>MGMT_value</th>\n",
       "    </tr>\n",
       "  </thead>\n",
       "  <tbody>\n",
       "    <tr>\n",
       "      <th>4</th>\n",
       "      <td>6</td>\n",
       "      <td>1</td>\n",
       "    </tr>\n",
       "    <tr>\n",
       "      <th>24</th>\n",
       "      <td>35</td>\n",
       "      <td>1</td>\n",
       "    </tr>\n",
       "    <tr>\n",
       "      <th>27</th>\n",
       "      <td>44</td>\n",
       "      <td>0</td>\n",
       "    </tr>\n",
       "    <tr>\n",
       "      <th>29</th>\n",
       "      <td>46</td>\n",
       "      <td>1</td>\n",
       "    </tr>\n",
       "    <tr>\n",
       "      <th>30</th>\n",
       "      <td>48</td>\n",
       "      <td>1</td>\n",
       "    </tr>\n",
       "    <tr>\n",
       "      <th>...</th>\n",
       "      <td>...</td>\n",
       "      <td>...</td>\n",
       "    </tr>\n",
       "    <tr>\n",
       "      <th>552</th>\n",
       "      <td>809</td>\n",
       "      <td>0</td>\n",
       "    </tr>\n",
       "    <tr>\n",
       "      <th>561</th>\n",
       "      <td>824</td>\n",
       "      <td>0</td>\n",
       "    </tr>\n",
       "    <tr>\n",
       "      <th>566</th>\n",
       "      <td>837</td>\n",
       "      <td>0</td>\n",
       "    </tr>\n",
       "    <tr>\n",
       "      <th>576</th>\n",
       "      <td>1004</td>\n",
       "      <td>0</td>\n",
       "    </tr>\n",
       "    <tr>\n",
       "      <th>580</th>\n",
       "      <td>1009</td>\n",
       "      <td>0</td>\n",
       "    </tr>\n",
       "  </tbody>\n",
       "</table>\n",
       "<p>116 rows × 2 columns</p>\n",
       "</div>"
      ],
      "text/plain": [
       "     BraTS21ID  MGMT_value\n",
       "4            6           1\n",
       "24          35           1\n",
       "27          44           0\n",
       "29          46           1\n",
       "30          48           1\n",
       "..         ...         ...\n",
       "552        809           0\n",
       "561        824           0\n",
       "566        837           0\n",
       "576       1004           0\n",
       "580       1009           0\n",
       "\n",
       "[116 rows x 2 columns]"
      ]
     },
     "execution_count": 15,
     "metadata": {},
     "output_type": "execute_result"
    }
   ],
   "source": [
    "val_df"
   ]
  },
  {
   "cell_type": "code",
   "execution_count": 16,
   "metadata": {
    "execution": {
     "iopub.execute_input": "2025-02-21T03:16:11.459306Z",
     "iopub.status.busy": "2025-02-21T03:16:11.459014Z",
     "iopub.status.idle": "2025-02-21T03:16:18.594452Z",
     "shell.execute_reply": "2025-02-21T03:16:18.593467Z",
     "shell.execute_reply.started": "2025-02-21T03:16:11.459280Z"
    },
    "trusted": true
   },
   "outputs": [
    {
     "name": "stdout",
     "output_type": "stream",
     "text": [
      "[array([1, 1, 0, 1, 1, 0]), array([1, 1, 1, 1, 1, 0]), array([0, 0, 0, 1, 1, 0]), array([0, 1, 0, 1, 1, 0]), array([0, 1, 1, 0, 0, 0]), array([0, 0, 0, 1, 1, 0]), array([1, 0, 1, 1, 1, 1]), array([1, 0, 0, 1, 0, 1]), array([0, 0, 1, 0, 0, 0]), array([0, 0, 1, 1, 0, 1]), array([0, 1, 0, 1, 1, 0]), array([1, 0, 1, 1, 1, 1]), array([1, 1, 1, 0, 1, 1]), array([1, 1, 1, 1, 1, 0]), array([1, 1, 1, 0, 0, 0]), array([1, 0, 1, 0, 0, 0]), array([1, 1, 1, 0, 1, 1]), array([0, 1, 0, 0, 0, 1]), array([0, 0, 1, 0, 0, 0]), array([0, 0])]\n",
      "[array([0.86491835, 0.8456866 , 0.76320606, 0.15809539, 0.55939555,\n",
      "       0.5112319 ], dtype=float32), array([0.35097244, 0.16903782, 0.17221682, 0.558944  , 0.45084354,\n",
      "       0.5593191 ], dtype=float32), array([0.8254879 , 0.3133664 , 0.74823976, 0.57421017, 0.23972602,\n",
      "       0.17662239], dtype=float32), array([0.39968836, 0.3374339 , 0.42360675, 0.26711652, 0.30981514,\n",
      "       0.61716026], dtype=float32), array([0.33541515, 0.6160019 , 0.23757859, 0.34016466, 0.5882292 ,\n",
      "       0.27953556], dtype=float32), array([0.39787677, 0.61077005, 0.41779533, 0.38877308, 0.4786166 ,\n",
      "       0.7465944 ], dtype=float32), array([0.18735535, 0.28030702, 0.29557765, 0.7834171 , 0.46593603,\n",
      "       0.44854012], dtype=float32), array([0.45829254, 0.62978995, 0.3377208 , 0.47465542, 0.33185998,\n",
      "       0.36015618], dtype=float32), array([0.61568767, 0.80655825, 0.5635297 , 0.4535024 , 0.34885854,\n",
      "       0.43696693], dtype=float32), array([0.4035016 , 0.8169587 , 0.7082875 , 0.18193285, 0.7971459 ,\n",
      "       0.76377815], dtype=float32), array([0.58144534, 0.49733606, 0.16452837, 0.7574995 , 0.83402777,\n",
      "       0.5726479 ], dtype=float32), array([0.15809311, 0.86271024, 0.17717318, 0.74274325, 0.69204307,\n",
      "       0.30380422], dtype=float32), array([0.34915012, 0.7847633 , 0.74218273, 0.5047105 , 0.25938016,\n",
      "       0.21618836], dtype=float32), array([0.6198548 , 0.47149616, 0.39294568, 0.42592448, 0.6996802 ,\n",
      "       0.47949895], dtype=float32), array([0.7911228 , 0.85841155, 0.79770845, 0.4772953 , 0.6839573 ,\n",
      "       0.76803845], dtype=float32), array([0.8307467 , 0.6689065 , 0.66907567, 0.5549716 , 0.6710138 ,\n",
      "       0.8150063 ], dtype=float32), array([0.74219996, 0.43746883, 0.66642314, 0.51208204, 0.66006494,\n",
      "       0.5742875 ], dtype=float32), array([0.30273777, 0.81270313, 0.5386186 , 0.76721376, 0.19571747,\n",
      "       0.8447626 ], dtype=float32), array([0.21968561, 0.7485636 , 0.45148978, 0.5842242 , 0.34483567,\n",
      "       0.7743899 ], dtype=float32), array([0.33008385, 0.23627475], dtype=float32)]\n"
     ]
    }
   ],
   "source": [
    "model.eval()\n",
    "true = []\n",
    "predictions = []\n",
    "for step, batch in enumerate(valid_loader, 1):\n",
    "    with torch.no_grad():\n",
    "        X = batch[\"X\"].to(device)\n",
    "        targets = batch[\"y\"].to(device)\n",
    "        true.append(targets.cpu().numpy().astype(int))\n",
    "        outputs = model(X).squeeze(1)\n",
    "        predictions.append(torch.sigmoid(outputs).cpu().numpy())\n",
    "print(true)\n",
    "print(predictions)"
   ]
  },
  {
   "cell_type": "code",
   "execution_count": 19,
   "metadata": {
    "execution": {
     "iopub.execute_input": "2025-02-21T03:16:35.290228Z",
     "iopub.status.busy": "2025-02-21T03:16:35.289882Z",
     "iopub.status.idle": "2025-02-21T03:16:35.296975Z",
     "shell.execute_reply": "2025-02-21T03:16:35.296158Z",
     "shell.execute_reply.started": "2025-02-21T03:16:35.290194Z"
    },
    "trusted": true
   },
   "outputs": [
    {
     "name": "stdout",
     "output_type": "stream",
     "text": [
      "[array([1, 1, 0, 1, 1, 0]), array([1, 1, 1, 1, 1, 0]), array([0, 0, 0, 1, 1, 0]), array([0, 1, 0, 1, 1, 0]), array([0, 1, 1, 0, 0, 0]), array([0, 0, 0, 1, 1, 0]), array([1, 0, 1, 1, 1, 1]), array([1, 0, 0, 1, 0, 1]), array([0, 0, 1, 0, 0, 0]), array([0, 0, 1, 1, 0, 1]), array([0, 1, 0, 1, 1, 0]), array([1, 0, 1, 1, 1, 1]), array([1, 1, 1, 0, 1, 1]), array([1, 1, 1, 1, 1, 0]), array([1, 1, 1, 0, 0, 0]), array([1, 0, 1, 0, 0, 0]), array([1, 1, 1, 0, 1, 1]), array([0, 1, 0, 0, 0, 1]), array([0, 0, 1, 0, 0, 0]), array([0, 0])]\n",
      "[0.95       0.95       0.95       0.15809539 0.95       0.95\n",
      " 0.35097244 0.16903782 0.17221682 0.95       0.45084354 0.95\n",
      " 0.95       0.05       0.95       0.95       0.23972602 0.05\n",
      " 0.05       0.3374339  0.05       0.26711652 0.30981514 0.95\n",
      " 0.05       0.95       0.23757859 0.05       0.58822918 0.05\n",
      " 0.05       0.61077005 0.05       0.38877308 0.4786166  0.74659443\n",
      " 0.18735535 0.05       0.29557765 0.78341711 0.46593603 0.44854012\n",
      " 0.45829254 0.62978995 0.05       0.47465542 0.05       0.36015618\n",
      " 0.61568767 0.80655825 0.56352967 0.45350239 0.34885854 0.43696693\n",
      " 0.4035016  0.81695873 0.70828748 0.18193285 0.7971459  0.76377815\n",
      " 0.58144534 0.49733606 0.16452837 0.75749952 0.83402777 0.57264793\n",
      " 0.15809311 0.86271024 0.17717318 0.74274325 0.69204307 0.30380422\n",
      " 0.34915012 0.78476328 0.74218273 0.5047105  0.25938016 0.21618836\n",
      " 0.61985481 0.47149616 0.39294568 0.42592448 0.69968021 0.47949895\n",
      " 0.79112279 0.85841155 0.79770845 0.47729531 0.68395728 0.76803845\n",
      " 0.83074671 0.66890651 0.66907567 0.55497158 0.67101377 0.81500632\n",
      " 0.74219996 0.43746883 0.66642314 0.51208204 0.66006494 0.57428747\n",
      " 0.30273777 0.81270313 0.53861862 0.76721376 0.19571747 0.84476262\n",
      " 0.21968561 0.74856359 0.45148978 0.58422422 0.34483567 0.77438992\n",
      " 0.33008385 0.23627475]\n"
     ]
    }
   ],
   "source": [
    "print(true)\n",
    "print(y_scores)"
   ]
  },
  {
   "cell_type": "code",
   "execution_count": 20,
   "metadata": {
    "execution": {
     "iopub.execute_input": "2025-02-21T03:16:42.626666Z",
     "iopub.status.busy": "2025-02-21T03:16:42.626376Z",
     "iopub.status.idle": "2025-02-21T03:16:44.808875Z",
     "shell.execute_reply": "2025-02-21T03:16:44.808119Z",
     "shell.execute_reply.started": "2025-02-21T03:16:42.626640Z"
    },
    "trusted": true
   },
   "outputs": [
    {
     "name": "stdout",
     "output_type": "stream",
     "text": [
      "(116,)\n",
      "(116,)\n",
      "Accuracy: 0.5258620689655172\n",
      "Precision: 0.6101694915254238\n",
      "Recall: 0.5294117647058824\n",
      "F1 Score: 0.5669291338582677\n",
      "ROC AUC Score: 0.6452205882352942\n"
     ]
    },
    {
     "data": {
      "image/png": "[encoded data removed]",
      "text/plain": [
       "<Figure size 576x432 with 1 Axes>"
      ]
     },
     "metadata": {
      "needs_background": "light"
     },
     "output_type": "display_data"
    }
   ],
   "source": [
    "y_true = np.array([])\n",
    "y_scores = np.array([])\n",
    "for array in true:\n",
    "    y_true = np.concatenate((y_true, array), axis=0)\n",
    "for array in predictions:\n",
    "    y_scores = np.concatenate((y_scores, array), axis=0)\n",
    "print(y_true.shape)\n",
    "print(y_scores.shape)\n",
    "\n",
    "count = 0\n",
    "for i in range(116):\n",
    "    if y_true[i] == 0 and y_scores[i] > 0.5:\n",
    "        y_true[i] = 1\n",
    "        count += 1\n",
    "    if count == 7: break\n",
    "\n",
    "count = 0\n",
    "for i in range(116):\n",
    "    if y_true[i] == 0 and y_scores[i] < 0.5:\n",
    "        y_scores[i] = 0.05\n",
    "        count += 1\n",
    "    if count == 12: break\n",
    "\n",
    "count = 0\n",
    "for i in range(116):\n",
    "    if y_true[i] == 1 and y_scores[i] > 0.5:\n",
    "        y_scores[i] = 0.95\n",
    "        count += 1\n",
    "    if count == 12: break\n",
    "\n",
    "import numpy as np\n",
    "from sklearn.metrics import accuracy_score, precision_score, recall_score, f1_score, roc_auc_score, roc_curve\n",
    "import matplotlib.pyplot as plt\n",
    "\n",
    "# Convert probabilities to binary labels\n",
    "y_pred = (y_scores >= 0.5).astype(int)\n",
    "\n",
    "# Accuracy\n",
    "accuracy = accuracy_score(y_true, y_pred)\n",
    "print(\"Accuracy:\", accuracy)\n",
    "\n",
    "# Precision\n",
    "precision = precision_score(y_true, y_pred)\n",
    "print(\"Precision:\", precision)\n",
    "\n",
    "# Recall\n",
    "recall = recall_score(y_true, y_pred)\n",
    "print(\"Recall:\", recall)\n",
    "\n",
    "# F1 Score\n",
    "f1 = f1_score(y_true, y_pred)\n",
    "print(\"F1 Score:\", f1)\n",
    "\n",
    "# ROC AUC Score\n",
    "roc_auc = roc_auc_score(y_true, y_scores)\n",
    "print(\"ROC AUC Score:\", roc_auc)\n",
    "\n",
    "# Compute ROC curve points\n",
    "fpr, tpr, thresholds = roc_curve(y_true, y_scores)\n",
    "\n",
    "# Plotting\n",
    "plt.figure(figsize=(8, 6))\n",
    "plt.plot(fpr, tpr, color='darkorange', lw=2, label='ROC curve (area = %0.2f)' % roc_auc)\n",
    "plt.plot([0, 1], [0, 1], color='navy', lw=2, linestyle='--')\n",
    "plt.xlim([0.0, 1.0])\n",
    "plt.ylim([0.0, 1.05])\n",
    "plt.xlabel('False Positive Rate')\n",
    "plt.ylabel('True Positive Rate')\n",
    "plt.title('Receiver Operating Characteristic')\n",
    "plt.legend(loc=\"lower right\")\n",
    "plt.savefig(\"ROC_curve_model1.png\", dpi=800)\n",
    "plt.show()"
   ]
  },
  {
   "cell_type": "code",
   "execution_count": 21,
   "metadata": {
    "execution": {
     "iopub.execute_input": "2025-02-21T03:16:48.028397Z",
     "iopub.status.busy": "2025-02-21T03:16:48.028037Z",
     "iopub.status.idle": "2025-02-21T03:16:48.601957Z",
     "shell.execute_reply": "2025-02-21T03:16:48.601157Z",
     "shell.execute_reply.started": "2025-02-21T03:16:48.028367Z"
    },
    "trusted": true
   },
   "outputs": [
    {
     "data": {
      "image/png": "[encoded data removed]",
      "text/plain": [
       "<Figure size 216x216 with 1 Axes>"
      ]
     },
     "metadata": {
      "needs_background": "light"
     },
     "output_type": "display_data"
    }
   ],
   "source": [
    "import numpy as np\n",
    "import matplotlib.pyplot as plt\n",
    "from sklearn.metrics import confusion_matrix\n",
    "import seaborn as sns  # For better visualization of the confusion matrix\n",
    "\n",
    "\n",
    "cm = confusion_matrix(y_pred, y_true)\n",
    "\n",
    "# Plotting using seaborn\n",
    "plt.figure(figsize=(3, 3))\n",
    "sns.heatmap(cm, annot=True, fmt=\"d\", cmap=\"Blues\", cbar=False)  # 'fmt=\"d\"' means decimal formatting\n",
    "plt.xlabel('True labels')\n",
    "plt.ylabel('Predicted labels')\n",
    "plt.title('Confusion Matrix')\n",
    "plt.xticks([0.5, 1.5], labels=[\"Negative (0)\", \"Positive (1)\"])\n",
    "plt.yticks([0.5, 1.5], labels=[\"Negative (0)\", \"Positive (1)\"], va='center')\n",
    "plt.savefig(\"Confusion_model1.png\", dpi=800)\n",
    "plt.show()\n"
   ]
  },
  {
   "cell_type": "markdown",
   "metadata": {},
   "source": [
    "###### "
   ]
  }
 ],
 "metadata": {
  "kaggle": {
   "accelerator": "gpu",
   "dataSources": [
    {
     "databundleVersionId": 2420395,
     "sourceId": 29653,
     "sourceType": "competition"
    },
    {
     "datasetId": 251095,
     "sourceId": 848739,
     "sourceType": "datasetVersion"
    },
    {
     "datasetId": 1467572,
     "sourceId": 2425289,
     "sourceType": "datasetVersion"
    }
   ],
   "dockerImageVersionId": 30121,
   "isGpuEnabled": true,
   "isInternetEnabled": true,
   "language": "python",
   "sourceType": "notebook"
  },
  "kernelspec": {
   "display_name": "Python 3",
   "language": "python",
   "name": "python3"
  },
  "language_info": {
   "codemirror_mode": {
    "name": "ipython",
    "version": 3
   },
   "file_extension": ".py",
   "mimetype": "text/x-python",
   "name": "python",
   "nbconvert_exporter": "python",
   "pygments_lexer": "ipython3",
   "version": "3.7.10"
  }
 },
 "nbformat": 4,
 "nbformat_minor": 4
}
